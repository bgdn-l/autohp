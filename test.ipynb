{
 "cells": [
  {
   "cell_type": "code",
   "execution_count": 224,
   "metadata": {},
   "outputs": [
    {
     "name": "stdout",
     "output_type": "stream",
     "text": [
      "https://www.sigmaaldrich.com/US/en/product/aldrich/b81255\n",
      "https://www.sigmaaldrich.com/US/en/product/sigma/b9252\n",
      "https://www.sigmaaldrich.com/US/en/product/mm/801949\n"
     ]
    }
   ],
   "source": [
    "from googlesearch import search\n",
    "\n",
    "query = \"site:sigmaaldrich.com/US/en/product N-bromosuccinimide\"\n",
    "for item in search(query, tld='com', lang='en', num=10, start=0, stop=3, pause=0.5):\n",
    "    print(item)"
   ]
  },
  {
   "cell_type": "code",
   "execution_count": 1,
   "metadata": {},
   "outputs": [],
   "source": [
    "from bs4 import BeautifulSoup\n",
    "import time\n",
    "import requests\n",
    "import json\n"
   ]
  },
  {
   "cell_type": "code",
   "execution_count": 275,
   "metadata": {},
   "outputs": [],
   "source": [
    "link = 'https://www.sigmaaldrich.com/GB/en/product/sial/322415'\n"
   ]
  },
  {
   "cell_type": "code",
   "execution_count": 279,
   "metadata": {},
   "outputs": [
    {
     "name": "stdout",
     "output_type": "stream",
     "text": [
      "<Response [200]>\n"
     ]
    }
   ],
   "source": [
    "session = requests.Session()\n",
    "headers = {'User-Agent': 'Mozilla/5.0 (Windows NT 10.0; Win64; x64) AppleWebKit/537.36 \\\n",
    "     (KHTML, like Gecko) Chrome/106.0.0.0 Safari/537.36','country_code': 'GB', 'Accept-Language': 'en-US,en;q=0.5', \\\n",
    "          'Accept': 'text/html,application/xhtml+xml,application/xml;q=0.9,*/*;q=0.8'}\n",
    "params = dict(lang='en-US,en;q=0.5')\n",
    "response = session.get(link, headers=headers, params=params, timeout=5, allow_redirects=True)\n",
    "type(response)\n",
    "print(response)"
   ]
  },
  {
   "cell_type": "code",
   "execution_count": null,
   "metadata": {},
   "outputs": [],
   "source": [
    "soup = BeautifulSoup(response.text, \"html.parser\")\n",
    "box = soup.findAll('script', attrs={'type': 'application/json', 'id': '__NEXT_DATA__'})\n",
    "print(box)"
   ]
  },
  {
   "cell_type": "code",
   "execution_count": 219,
   "metadata": {},
   "outputs": [],
   "source": [
    "json_string = box[0].text.strip()\n",
    "parsed_json = json.loads(json_string)\n",
    "h_sta = parsed_json['props']['pageProps']['data']['getProductDetail']['compliance'][2]['value']\n",
    "p_sta = parsed_json['props']['pageProps']['data']['getProductDetail']['compliance'][3]['value']\n"
   ]
  },
  {
   "cell_type": "code",
   "execution_count": null,
   "metadata": {},
   "outputs": [],
   "source": [
    "print(json.dumps(parsed_json, indent=4)) # pretty-print wall of text"
   ]
  },
  {
   "cell_type": "code",
   "execution_count": 220,
   "metadata": {},
   "outputs": [
    {
     "name": "stdout",
     "output_type": "stream",
     "text": [
      "H225 - H301 + H311 + H331 - H370\n",
      "P210 - P233 - P280 - P301 + P310 - P303 + P361 + P353 - P304 + P340 + P311\n"
     ]
    }
   ],
   "source": [
    "print(h_sta)\n",
    "print(p_sta)"
   ]
  },
  {
   "cell_type": "code",
   "execution_count": 212,
   "metadata": {},
   "outputs": [],
   "source": [
    "a = parsed_json['props']['pageProps']['data']['getProductDetail']['compliance']\n",
    "# try:\n",
    "#     for (k,v) in a.items():\n",
    "#         print(k,v)\n",
    "#         print(\" \")\n",
    "# except AttributeError:\n",
    "#     for item in a:\n",
    "#         print(item)\n",
    "#         print(\" \")\n",
    "hc_idx = None\n",
    "pc_idx = None\n",
    "for index in range(len(a)):\n",
    "    if a[index]['key'] == 'hcodes':\n",
    "        hc_idx = index\n",
    "    elif a[index]['key'] == 'pcodes':\n",
    "        pc_idx = index\n",
    "    \n",
    "\n",
    "h_sta = a[hc_idx]['value'] if hc_idx is not None else None\n",
    "p_sta = a[pc_idx]['value'] if pc_idx is not None else None\n"
   ]
  },
  {
   "cell_type": "code",
   "execution_count": 222,
   "metadata": {},
   "outputs": [
    {
     "name": "stdout",
     "output_type": "stream",
     "text": [
      "id 322415SIAL\n",
      " \n",
      "productNumber 322415\n",
      " \n",
      "productKey 322415\n",
      " \n",
      "erpProductKey 322415\n",
      " \n",
      "isSial True\n",
      " \n",
      "isMarketplace False\n",
      " \n",
      "marketplaceSellerId None\n",
      " \n",
      "marketplaceOfferId None\n",
      " \n",
      "substance {'id': 'methanol320467561', '__typename': 'Substance'}\n",
      " \n",
      "brand {'key': 'SIAL', 'erpKey': 'SIAL', 'name': 'Sigma-Aldrich', 'logo': {'altText': 'Sigma-Aldrich', 'smallUrl': '/assets/images/sigmaaldrich-logo/sigmaaldrich-logo.svg', 'mediumUrl': '/assets/images/sigmaaldrich-logo/sigmaaldrich-logo.svg', 'largeUrl': '/assets/images/sigmaaldrich-logo/sigmaaldrich-logo.svg', '__typename': 'CatalogImage'}, 'cells': {'altText': 'Sigma-Aldrich', 'smallUrl': '/assets/images/sigmaaldrich-organic-shape-1/sigmaaldrich-organic-shape-1_w300.png', 'mediumUrl': '/assets/images/sigmaaldrich-organic-shape-1/sigmaaldrich-organic-shape-1_w640.png', 'largeUrl': '/assets/images/sigmaaldrich-organic-shape-1/sigmaaldrich-organic-shape-1.png', '__typename': 'CatalogImage'}, 'color': '#e61e50', '__typename': 'Brand'}\n",
      " \n",
      "aliases [{'key': 'beilstein/reaxys number', 'value': '1098229', 'label': 'Beilstein', '__typename': 'Alias'}, {'key': 'einecs', 'value': '200-659-6', 'label': 'EC Number', '__typename': 'Alias'}, {'key': 'mdl number', 'value': 'MFCD00004595', 'label': 'MDL number', '__typename': 'Alias'}, {'key': 'pubchem substance id', 'value': '<a target=\"_blank\" rel=\"noopener noreferrer\" href=\"http://pubchem.ncbi.nlm.nih.gov/summary/summary.cgi?sid=57648672\">57648672</a>', 'label': 'PubChem Substance ID', '__typename': 'Alias'}]\n",
      " \n",
      "name Methanol\n",
      " \n",
      "description anhydrous, 99.8%\n",
      " \n",
      "descriptions [{'label': 'General description', 'values': ['Methanol is an industrial organic solvent commonly used in organic synthesis. It is being considered as a potential hydrogen source in fuel cell technology due to its high H/C ratio, low propensity for soot generation, relatively low reforming temperature and its liquid state at room temperature.<span ID=\"906322\" TYPE=\"literature\"/><span ID=\"906323\" TYPE=\"literature\"/> The olefins (ethylene or propylene) formed from methanol via MTO (methanol-to-olefins) process, can be an alternative to oil and gas to produce hydrocarbon fuels.<span ID=\"906324\" TYPE=\"literature\"/>'], '__typename': 'ProductDescription'}, {'label': 'Application', 'values': ['Methanol has been used for fixing the tissues during preparation of thin giemsa stained blood smears.<span ID=\"519477\" TYPE=\"literature\"/> It has been used in the purification step during the synthesis of pyocyanin, a toxic compound found in <I>Pseudomonas aeruginosa</I>.<span ID=\"519478\" TYPE=\"literature\"/>', 'Methanol has been used in following applications:<BR/><UL><LI>Used for the synthesis and purification of pyocyanin, spectrophotometric estimation of pyocyanin concentration, and the calculation of pyocyanin molar concentration using spectrophotometer absorption data.<span ID=\"608548\" TYPE=\"literature\"/></LI><LI>Used as a component of staining solution used in karyotyping.<span ID=\"549240\" TYPE=\"literature\"/></LI><LI>Used as a component of staining solution to stain cell colonies in colony formation assay.<span ID=\"904862\" TYPE=\"literature\"/></LI></UL>'], '__typename': 'ProductDescription'}, {'label': 'Packaging', 'values': ['100, 12&#215;100 mL in Sure/Seal™', '1, 6&#215;1, 2, 4&#215;2 L in Sure/Seal™', '18 L in Pure-Pac™ 1', '20 L in Pure-Pac™ 2', '200 L in Pure-Pac™ 1', 'View <a href=\"https://www.sigmaaldrich.com/US/en/campaigns/recycler-solvent-systems\">returnable container options</a>.'], '__typename': 'ProductDescription'}, {'label': 'Other Notes', 'values': ['Pure-Pac<SUP>&#174;</SUP> II containers require the Micromatic MacroValve coupler for dispensing solvents, Z560723.'], '__typename': 'ProductDescription'}, {'label': 'Legal Information', 'values': ['Pure-Pac is a registered trademark of Sigma-Aldrich Co. LLC'], '__typename': 'ProductDescription'}]\n",
      " \n",
      "molecularWeight 32.04\n",
      " \n",
      "empiricalFormula CH<SUB>4</SUB>O\n",
      " \n",
      "linearFormula CH<SUB>3</SUB>OH\n",
      " \n",
      "casNumber 67-56-1\n",
      " \n",
      "images [{'altText': 'Methanol anhydrous, 99.8%', 'label': '', 'smallUrl': '/deepweb/content/dam/sigma-aldrich/structure3/070/mfcd00004595.eps/_jcr_content/renditions/mfcd00004595-small.png', 'mediumUrl': '/deepweb/content/dam/sigma-aldrich/structure3/070/mfcd00004595.eps/_jcr_content/renditions/mfcd00004595-medium.png', 'largeUrl': '/deepweb/content/dam/sigma-aldrich/structure3/070/mfcd00004595.eps/_jcr_content/renditions/mfcd00004595-large.png', '__typename': 'CatalogImage'}, {'altText': 'Methanol anhydrous, 99.8%', 'label': 'Anhydrous, Sureseal', 'smallUrl': '/deepweb/content/dam/sigma-aldrich/product3/153/sure-seal_top.tif/_jcr_content/renditions/sure-seal_top-small.jpg', 'mediumUrl': '/deepweb/content/dam/sigma-aldrich/product3/153/sure-seal_top.tif/_jcr_content/renditions/sure-seal_top-medium.jpg', 'largeUrl': '/deepweb/content/dam/sigma-aldrich/product3/153/sure-seal_top.tif/_jcr_content/renditions/sure-seal_top-large.jpg', '__typename': 'CatalogImage'}, {'altText': 'Methanol anhydrous, 99.8%', 'label': 'Anhydrous, Sureseal', 'smallUrl': '/deepweb/content/dam/sigma-aldrich/product4/105/sure-seal-liner.tif/_jcr_content/renditions/sure-seal-liner-small.jpg', 'mediumUrl': '/deepweb/content/dam/sigma-aldrich/product4/105/sure-seal-liner.tif/_jcr_content/renditions/sure-seal-liner-medium.jpg', 'largeUrl': '/deepweb/content/dam/sigma-aldrich/product4/105/sure-seal-liner.tif/_jcr_content/renditions/sure-seal-liner-large.jpg', '__typename': 'CatalogImage'}, {'altText': 'Methanol anhydrous, 99.8%', 'label': 'Anhydrous, Sureseal', 'smallUrl': '/deepweb/content/dam/sigma-aldrich/product4/143/methonal-wkly-gain.tif/_jcr_content/renditions/methonal-wkly-gain-small.jpg', 'mediumUrl': '/deepweb/content/dam/sigma-aldrich/product4/143/methonal-wkly-gain.tif/_jcr_content/renditions/methonal-wkly-gain-medium.jpg', 'largeUrl': '/deepweb/content/dam/sigma-aldrich/product4/143/methonal-wkly-gain.tif/_jcr_content/renditions/methonal-wkly-gain-large.jpg', '__typename': 'CatalogImage'}]\n",
      " \n",
      "synonyms ['Methyl alcohol']\n",
      " \n",
      "attributes [{'key': 'special grade.default', 'label': 'grade', 'values': ['anhydrous'], '__typename': 'ProductAttribute'}, {'key': 'web_eqp', 'label': 'Quality Level', 'values': ['100'], '__typename': 'ProductAttribute'}, {'key': 'vapor density vs air.default', 'label': 'vapor density', 'values': ['1.11 (vs air)'], '__typename': 'ProductAttribute'}, {'key': 'vapor pressure.default', 'label': 'vapor pressure', 'values': ['410 mmHg ( 50 °C)', '97.68 mmHg ( 20 °C)'], '__typename': 'ProductAttribute'}, {'key': 'assay.default', 'label': 'assay', 'values': ['99.8%'], '__typename': 'ProductAttribute'}, {'key': 'physical form.listing', 'label': 'form', 'values': ['liquid'], '__typename': 'ProductAttribute'}, {'key': 'autoignition temp.default', 'label': 'autoignition temp.', 'values': ['725&#160;°F'], '__typename': 'ProductAttribute'}, {'key': 'explosion limit.default', 'label': 'expl. lim.', 'values': ['36&#160;%'], '__typename': 'ProductAttribute'}, {'key': 'titertest.default', 'label': 'technique(s)', 'values': ['tissue processing: suitable'], '__typename': 'ProductAttribute'}, {'key': 'impurities.default', 'label': 'impurities', 'values': ['&lt;0.002% water', '&lt;0.005% water (100 mL pkg)'], '__typename': 'ProductAttribute'}, {'key': 'residue.default', 'label': 'evapn. residue', 'values': ['&lt;0.0003%'], '__typename': 'ProductAttribute'}, {'key': 'refractive index.default', 'label': 'refractive index', 'values': ['<I>n</I><FRAC Type=\"vertical\">20/D</FRAC> 1.329 (lit.)'], '__typename': 'ProductAttribute'}, {'key': 'boiling point.default', 'label': 'bp', 'values': ['64.7&#160;°C (lit.)'], '__typename': 'ProductAttribute'}, {'key': 'melting point.default', 'label': 'mp', 'values': ['&#8722;98&#160;°C (lit.)'], '__typename': 'ProductAttribute'}, {'key': 'density.default', 'label': 'density', 'values': ['0.791&#160;g/mL&#160;at 25&#160;°C (lit.)'], '__typename': 'ProductAttribute'}, {'key': 'smiles string', 'label': 'SMILES string', 'values': ['CO'], '__typename': 'ProductAttribute'}, {'key': 'inchi', 'label': 'InChI', 'values': ['1S/CH4O/c1-2/h2H,1H3'], '__typename': 'ProductAttribute'}, {'key': 'inchi key', 'label': 'InChI key', 'values': ['OKKJLVBELUTLKV-UHFFFAOYSA-N'], '__typename': 'ProductAttribute'}]\n",
      " \n",
      "materialIds ['322415-PZ', '322415-18L', '322415-20L', '322415-VAR', 'QR-028-1L', '322415-6X1L', '322415-100ML', '322415-1250L-P1', '322415-12X100ML', '322415-18L-P1', '322415-1L', '322415-200L', '322415-200L-P2', '322415-200L-P2-SA', '322415-20L-P2', '322415-250ML', '322415-2L', '322415-4X2L', '322415-900ML', '322415-8L', '322415-6L']\n",
      " \n",
      "compliance [{'key': 'pictograms', 'label': 'Pictograms', 'value': 'GHS02,GHS06,GHS08', 'images': [{'altText': 'Flame', 'smallUrl': '/assets/images/ghs-flame/ghs-flame_w300.jpg', 'mediumUrl': '/assets/images/ghs-flame/ghs-flame_w640.jpg', 'largeUrl': '/assets/images/ghs-flame/ghs-flame.jpg', '__typename': 'CatalogImage'}, {'altText': 'Skull and crossbones', 'smallUrl': '/assets/images/ghs-skull-crossbones/ghs-skull-crossbones_w300.jpg', 'mediumUrl': '/assets/images/ghs-skull-crossbones/ghs-skull-crossbones_w640.jpg', 'largeUrl': '/assets/images/ghs-skull-crossbones/ghs-skull-crossbones.jpg', '__typename': 'CatalogImage'}, {'altText': 'Health hazard', 'smallUrl': '/assets/images/ghs-health-hazard/ghs-health-hazard_w300.jpg', 'mediumUrl': '/assets/images/ghs-health-hazard/ghs-health-hazard_w640.jpg', 'largeUrl': '/assets/images/ghs-health-hazard/ghs-health-hazard.jpg', '__typename': 'CatalogImage'}], '__typename': 'Compliance'}, {'key': 'signalword', 'label': 'Signal Word', 'value': 'Danger', 'images': [], '__typename': 'Compliance'}, {'key': 'hcodes', 'label': 'Hazard Statements', 'value': 'H225 - H301 + H311 + H331 - H370', 'images': [], '__typename': 'Compliance'}, {'key': 'pcodes', 'label': 'Precautionary Statements', 'value': 'P210 - P233 - P280 - P301 + P310 - P303 + P361 + P353 - P304 + P340 + P311', 'images': [], '__typename': 'Compliance'}, {'key': 'hazcat', 'label': 'Hazard Classifications', 'value': 'Acute Tox. 3 Dermal - Acute Tox. 3 Inhalation - Acute Tox. 3 Oral - Flam. Liq. 2 - STOT SE 1', 'images': [], '__typename': 'Compliance'}, {'key': 'storage_class_code', 'label': 'Storage Class Code', 'value': '3 - Flammable liquids', 'images': [], '__typename': 'Compliance'}, {'key': 'wgk', 'label': 'WGK', 'value': 'WGK 2', 'images': [], '__typename': 'Compliance'}, {'key': 'flash_point_f', 'label': 'Flash Point(F)', 'value': '49.5 °F - closed cup', 'images': [], '__typename': 'Compliance'}, {'key': 'flash_point_c', 'label': 'Flash Point(C)', 'value': '9.7 °C - closed cup', 'images': [], '__typename': 'Compliance'}, {'key': 'ppe', 'label': 'Personal Protective Equipment', 'value': 'Eyeshields, Faceshields, Gloves', 'images': [], '__typename': 'Compliance'}]\n",
      " \n",
      "complianceReach [{'key': 'rmu', 'label': 'Listed on EU REACH Annex XVII (Restriction List)', 'value': '67-56-1', 'casNos': ['67-56-1'], '__typename': 'ComplianceReach'}]\n",
      " \n",
      "browserMetadata {'title': 'Methanol anhydrous, 99.8 67-56-1', 'description': 'Methanol anhydrous, 99.8%; CAS Number: 67-56-1; EC Number: 200-659-6; Synonyms: Methyl alcohol; Linear Formula: CH3OH; find Sigma-Aldrich-322415 MSDS, related peer-reviewed papers, technical documents, similar products & more at Sigma-Aldrich', 'keywords': ['Sigma-Aldrich', '322415', 'Methanol', 'anhydrous', '99.8%', 'Methyl alcohol', '67-56-1', 'CH3OH'], '__typename': 'BrowserMetadata'}\n",
      " \n",
      "sdsPnoKey 322415\n",
      " \n",
      "links [{'label': 'Structure Search', 'key': 'structure_search', 'anchorTag': '<a href=\"/structure-search\">Structure Search</a>', 'image': '/content/dam/sigma-aldrich/head/search/structure-icon.gif', '__typename': 'DocumentLink'}, {'label': 'Pressure-Temperature Nomograph', 'key': 'pressure_temperature_nomograph', 'anchorTag': '<a href=\"/support/calculators-and-apps/pressure-temperature-nomograph-interactive-tool\">Pressure-Temperature Nomograph</a>', 'image': '/content/dam/sigma-aldrich/head/search/nomograph-icon.jpg', '__typename': 'DocumentLink'}]\n",
      " \n",
      "features ['gsa']\n",
      " \n",
      "paMessage None\n",
      " \n",
      "catalogId sial\n",
      " \n",
      "components {'kitOnly': None, 'kitSoldSeparate': None, 'analyte': None, 'solvent': None, 'bulletin': None, '__typename': 'MappedProductComponent'}\n",
      " \n",
      "substanceCount 200\n",
      " \n",
      "productCategories [{'category': 'Solvents', 'url': '/products/analytical-chemistry/analytical-chromatography/solvents', '__typename': 'ProductCategory'}]\n",
      " \n",
      "relatedProducts [{'type': 'also commonly purchased with this product', 'productId': '270997SIAL', '__typename': 'RelatedProduct'}, {'type': 'also commonly purchased with this product', 'productId': '279544SIAL', '__typename': 'RelatedProduct'}, {'type': 'also commonly purchased with this product', 'productId': '227056SIAL', '__typename': 'RelatedProduct'}, {'type': 'related product', 'productId': 'Z568031ALDRICH', '__typename': 'RelatedProduct'}, {'type': 'related product', 'productId': 'Z568074ALDRICH', '__typename': 'RelatedProduct'}, {'type': 'suggested gloves for splash protection', 'productId': 'Z677434ALDRICH', '__typename': 'RelatedProduct'}, {'type': 'suggested gloves for splash protection', 'productId': 'Z677442ALDRICH', '__typename': 'RelatedProduct'}, {'type': 'suggested gloves for splash protection', 'productId': 'Z677450ALDRICH', '__typename': 'RelatedProduct'}, {'type': 'suggested gloves for splash protection', 'productId': 'Z677469ALDRICH', '__typename': 'RelatedProduct'}, {'type': 'suggested gloves for splash protection', 'productId': 'Z677477ALDRICH', '__typename': 'RelatedProduct'}]\n",
      " \n",
      "type Chemical\n",
      " \n",
      "customPdpId \n",
      " \n",
      "productRating {'ratingEnabled': True, '__typename': 'ProductRating'}\n",
      " \n",
      "__typename Product\n",
      " \n"
     ]
    }
   ],
   "source": [
    "a = parsed_json['props']['pageProps']['data']['getProductDetail']\n",
    "try:\n",
    "    for (k,v) in a.items():\n",
    "        print(k,v)\n",
    "        print(\" \")\n",
    "except AttributeError:\n",
    "    for item in a:\n",
    "        print(item)\n",
    "        print(\" \")"
   ]
  },
  {
   "cell_type": "code",
   "execution_count": 163,
   "metadata": {},
   "outputs": [
    {
     "data": {
      "text/plain": [
       "'nu'"
      ]
     },
     "execution_count": 163,
     "metadata": {},
     "output_type": "execute_result"
    }
   ],
   "source": []
  },
  {
   "cell_type": "code",
   "execution_count": 202,
   "metadata": {},
   "outputs": [
    {
     "data": {
      "text/plain": [
       "False"
      ]
     },
     "execution_count": 202,
     "metadata": {},
     "output_type": "execute_result"
    }
   ],
   "source": [
    "0 == None"
   ]
  },
  {
   "cell_type": "code",
   "execution_count": 228,
   "metadata": {},
   "outputs": [],
   "source": [
    "from typing import List\n",
    "def sigma_search_product(chemical: str) -> List[str]:\n",
    "    query = \"site:sigmaaldrich.com/US/en/product \" + chemical\n",
    "    ret = []\n",
    "    for item in search(query, tld='com', lang='en', num=10, start=0, stop=5, pause=0.5):\n",
    "        ret.append(item)\n",
    "    return ret"
   ]
  },
  {
   "cell_type": "code",
   "execution_count": 229,
   "metadata": {},
   "outputs": [
    {
     "data": {
      "text/plain": [
       "['https://www.sigmaaldrich.com/US/en/product/sigald/207888',\n",
       " 'https://www.sigmaaldrich.com/US/en/product/aldrich/470864',\n",
       " 'https://www.sigmaaldrich.com/US/en/product/saj/033390',\n",
       " 'https://www.sigmaaldrich.com/US/en/product/mm/820171',\n",
       " 'https://www.sigmaaldrich.com/US/en/product/mm/101948']"
      ]
     },
     "execution_count": 229,
     "metadata": {},
     "output_type": "execute_result"
    }
   ],
   "source": [
    "sigma_search_product('bromine')"
   ]
  },
  {
   "cell_type": "code",
   "execution_count": 304,
   "metadata": {},
   "outputs": [
    {
     "name": "stdout",
     "output_type": "stream",
     "text": [
      "trying\n",
      "himom\n",
      "trying\n",
      "ok\n",
      "<Response [200]>\n"
     ]
    }
   ],
   "source": [
    "# del headers\n",
    "from http import client\n",
    "from urllib3 import connectionpool\n",
    "headers={}\n",
    "\n",
    "for _ in range(4):\n",
    "    try:\n",
    "        print(\"trying\")\n",
    "        response = session.get(link, headers=headers, params=params, timeout=5, allow_redirects=True)\n",
    "    except (requests.exceptions.Timeout):\n",
    "        print(\"himom\")\n",
    "        session = requests.Session()\n",
    "        headers = {'User-Agent': 'Mozilla/5.0 (Windows NT 10.0; Win64; x64) AppleWebKit/537.36 \\\n",
    "            (KHTML, like Gecko) Chrome/106.0.0.0 Safari/537.36','country_code': 'GB', 'Accept-Language': 'en-US,en;q=0.5', \\\n",
    "                'Accept': 'text/html,application/xhtml+xml,application/xml;q=0.9,*/*;q=0.8'}\n",
    "        params = dict(lang='en-US,en;q=0.5')\n",
    "    else:\n",
    "        if response.ok:\n",
    "            print(\"ok\")\n",
    "            print(response)\n",
    "        break\n",
    "else:\n",
    "    print(\"all attempts failed\")"
   ]
  },
  {
   "cell_type": "code",
   "execution_count": 300,
   "metadata": {},
   "outputs": [
    {
     "data": {
      "text/plain": [
       "True"
      ]
     },
     "execution_count": 300,
     "metadata": {},
     "output_type": "execute_result"
    }
   ],
   "source": [
    "response.ok"
   ]
  },
  {
   "cell_type": "code",
   "execution_count": 311,
   "metadata": {},
   "outputs": [],
   "source": [
    "with open('phrases.txt', 'r') as input:\n",
    "    hp_dict = {}\n",
    "    for line in input:\n",
    "        (code, phrase) = line.split(' ', 1)\n",
    "        hp_dict[code] = phrase.replace('\\n', \"\")"
   ]
  },
  {
   "cell_type": "code",
   "execution_count": 309,
   "metadata": {},
   "outputs": [],
   "source": [
    "for (key, value) in hp_dict.items():\n",
    "    value = value.replace('\\n', \"\")"
   ]
  },
  {
   "cell_type": "code",
   "execution_count": null,
   "metadata": {},
   "outputs": [],
   "source": [
    "print(hp_dict.items())"
   ]
  },
  {
   "cell_type": "code",
   "execution_count": 313,
   "metadata": {},
   "outputs": [
    {
     "ename": "TypeError",
     "evalue": "cannot convert dictionary update sequence element #0 to a sequence",
     "output_type": "error",
     "traceback": [
      "\u001b[1;31m---------------------------------------------------------------------------\u001b[0m",
      "\u001b[1;31mTypeError\u001b[0m                                 Traceback (most recent call last)",
      "\u001b[1;32mc:\\Users\\lyodd\\Desktop\\autohp - v1, deprecated\\improved\\test.ipynb Cell 20\u001b[0m in \u001b[0;36m<cell line: 1>\u001b[1;34m()\u001b[0m\n\u001b[1;32m----> <a href='vscode-notebook-cell:/c%3A/Users/lyodd/Desktop/autohp%20-%20v1%2C%20deprecated/improved/test.ipynb#X40sZmlsZQ%3D%3D?line=0'>1</a>\u001b[0m \u001b[39mdict\u001b[39;49m([\u001b[39m0\u001b[39;49m,\u001b[39m1\u001b[39;49m,\u001b[39m2\u001b[39;49m,\u001b[39m3\u001b[39;49m])\n",
      "\u001b[1;31mTypeError\u001b[0m: cannot convert dictionary update sequence element #0 to a sequence"
     ]
    }
   ],
   "source": [
    "dict([0,1,2,3])"
   ]
  },
  {
   "cell_type": "code",
   "execution_count": 316,
   "metadata": {},
   "outputs": [
    {
     "data": {
      "text/plain": [
       "{1: 16, 3: 18, 5: 20}"
      ]
     },
     "execution_count": 316,
     "metadata": {},
     "output_type": "execute_result"
    }
   ],
   "source": [
    "dicit = {1:2, 3:4, 5:6}\n",
    "for k,v in dicit.items():\n",
    "    dicit[k]=k+15\n",
    "dicit"
   ]
  },
  {
   "cell_type": "code",
   "execution_count": 376,
   "metadata": {},
   "outputs": [
    {
     "name": "stdout",
     "output_type": "stream",
     "text": [
      "[]\n"
     ]
    }
   ],
   "source": [
    "class Chemical:\n",
    "    '''\n",
    "    This class stores data about the chemical, such as websites and compliance details.\n",
    "    '''\n",
    "    def __init__(self, name: str, links = [], hcodes = None, pcodes = None):\n",
    "        self.name = name\n",
    "        self.links = links\n",
    "        self.hcodes = hcodes\n",
    "        self.pcodes = pcodes\n",
    "\n",
    "    def add_links(self, links: List[str] or str):\n",
    "        '''\n",
    "        Checks whether the given input is a list or a string, then adds the contents to the class links list.\n",
    "        '''\n",
    "        if self.links == None:\n",
    "            self.links = []\n",
    "        if type(links) is list:\n",
    "            self.links += links\n",
    "        elif type(links) is str:\n",
    "            self.links += [links]\n",
    "    \n",
    "    def set_codes(self, type: str, codes: str):\n",
    "        if type == 'h':\n",
    "            self.hcodes = codes\n",
    "        elif type == 'p':\n",
    "            self.pcodes = codes\n",
    "\n",
    "Chemical('NBS')  \n",
    "\n",
    "Chemical('NBS').add_links('www.google.com')\n",
    "print(Chemical('NBS').links)"
   ]
  },
  {
   "cell_type": "code",
   "execution_count": 366,
   "metadata": {},
   "outputs": [
    {
     "data": {
      "text/plain": [
       "__main__.Chemical"
      ]
     },
     "execution_count": 366,
     "metadata": {},
     "output_type": "execute_result"
    }
   ],
   "source": [
    "Chemical('NBS')"
   ]
  },
  {
   "cell_type": "code",
   "execution_count": 363,
   "metadata": {},
   "outputs": [],
   "source": [
    "a.add_links([\"a\", \"b\"])"
   ]
  },
  {
   "cell_type": "code",
   "execution_count": 364,
   "metadata": {},
   "outputs": [
    {
     "name": "stdout",
     "output_type": "stream",
     "text": [
      "['a', 'b']\n"
     ]
    }
   ],
   "source": [
    "print(a.links)"
   ]
  },
  {
   "cell_type": "code",
   "execution_count": 377,
   "metadata": {},
   "outputs": [
    {
     "name": "stdout",
     "output_type": "stream",
     "text": [
      "['www.google.com']\n"
     ]
    }
   ],
   "source": [
    "dicti1 = {}\n",
    "dicti1['NBS'] = Chemical('NBS')\n",
    "dicti1['NBS'].add_links('www.google.com')\n",
    "print(dicti1['NBS'].links)"
   ]
  },
  {
   "cell_type": "code",
   "execution_count": 381,
   "metadata": {},
   "outputs": [
    {
     "name": "stdout",
     "output_type": "stream",
     "text": [
      "site:asdf.com 'hexane'\n"
     ]
    }
   ],
   "source": [
    "query = \"site:asdf.com 'hexane'\"\n",
    "print(query)"
   ]
  },
  {
   "cell_type": "code",
   "execution_count": 386,
   "metadata": {},
   "outputs": [
    {
     "name": "stdout",
     "output_type": "stream",
     "text": [
      "\"asdf\"\n"
     ]
    }
   ],
   "source": [
    "search_term = 'asdf'\n",
    "query = f'site:google.com {search_term}'\n",
    "query = f'\"{search_term}\"'\n",
    "print(query)"
   ]
  },
  {
   "cell_type": "code",
   "execution_count": 388,
   "metadata": {},
   "outputs": [
    {
     "data": {
      "text/plain": [
       "True"
      ]
     },
     "execution_count": 388,
     "metadata": {},
     "output_type": "execute_result"
    }
   ],
   "source": [
    "isinstance([1,2,3], list)"
   ]
  },
  {
   "cell_type": "code",
   "execution_count": 389,
   "metadata": {},
   "outputs": [],
   "source": [
    "string=\"Str.Drumea Radulescu nr.16-18,sect.4\""
   ]
  },
  {
   "cell_type": "code",
   "execution_count": 390,
   "metadata": {},
   "outputs": [
    {
     "data": {
      "text/plain": [
       "True"
      ]
     },
     "execution_count": 390,
     "metadata": {},
     "output_type": "execute_result"
    }
   ],
   "source": [
    "'sect.4' in string"
   ]
  },
  {
   "cell_type": "code",
   "execution_count": 393,
   "metadata": {},
   "outputs": [],
   "source": [
    "mflist = []\n",
    "with open(r'C:\\Users\\lyodd\\downloads\\mfbuc.txt', 'r') as mfami:\n",
    "    for line in mfami:\n",
    "        mflist.append(line.replace('\\n', \"\"))\n"
   ]
  },
  {
   "cell_type": "code",
   "execution_count": null,
   "metadata": {},
   "outputs": [],
   "source": [
    "i = 0\n",
    "while i < len(mflist):\n",
    "    if 'sect 4' in mflist[i].lower() or 'sect. 4' in mflist[i].lower() or 'sect.4' in mflist[i].lower() \\\n",
    "        or 'sect4' in mflist[i].lower() or 'sector 4' in mflist[i].lower() or 'sector4' in mflist[i].lower() \\\n",
    "        or 'sectorul 4' in mflist[i].lower() or 'sectorul4' in mflist[i].lower():\n",
    "        i += 1\n",
    "    else:\n",
    "        mflist.pop(i)\n",
    "\n",
    "mflist\n",
    "\n"
   ]
  },
  {
   "cell_type": "code",
   "execution_count": 397,
   "metadata": {},
   "outputs": [],
   "source": [
    "with open(r'C:\\Users\\lyodd\\downloads\\mfbuc1.txt', 'w') as file:\n",
    "    for line in mflist:\n",
    "        file.write(line + \"\\n\")"
   ]
  },
  {
   "cell_type": "code",
   "execution_count": 413,
   "metadata": {},
   "outputs": [
    {
     "name": "stdout",
     "output_type": "stream",
     "text": [
      "NBS, ['www.google.com', 'NBS www.google.com', 'NBS www.google.com', 'NBS www.google.com']\n",
      "asdf, ['asdf www.google.com']\n",
      "wasd, ['wasd www.google.com']\n"
     ]
    }
   ],
   "source": [
    "list = ['asdf', 'wasd']\n",
    "for item in list:\n",
    "    dicti1[item] = Chemical(item)\n",
    "\n",
    "for item in dicti1:\n",
    "    dicti1[item].add_links(f'{item} www.google.com')\n",
    "    print(f'{item}, {dicti1[item].links}')\n",
    "\n"
   ]
  },
  {
   "cell_type": "code",
   "execution_count": 401,
   "metadata": {},
   "outputs": [
    {
     "ename": "TypeError",
     "evalue": "unsupported operand type(s) for +: 'NoneType' and 'list'",
     "output_type": "error",
     "traceback": [
      "\u001b[1;31m---------------------------------------------------------------------------\u001b[0m",
      "\u001b[1;31mTypeError\u001b[0m                                 Traceback (most recent call last)",
      "\u001b[1;32mc:\\Users\\lyodd\\Desktop\\autohp - v1, deprecated\\improved\\test.ipynb Cell 36\u001b[0m in \u001b[0;36m<cell line: 1>\u001b[1;34m()\u001b[0m\n\u001b[1;32m----> <a href='vscode-notebook-cell:/c%3A/Users/lyodd/Desktop/autohp%20-%20v1%2C%20deprecated/improved/test.ipynb#X62sZmlsZQ%3D%3D?line=0'>1</a>\u001b[0m \u001b[39mNone\u001b[39;49;00m \u001b[39m+\u001b[39;49m [\u001b[39m'\u001b[39;49m\u001b[39m1234\u001b[39;49m\u001b[39m'\u001b[39;49m]\n",
      "\u001b[1;31mTypeError\u001b[0m: unsupported operand type(s) for +: 'NoneType' and 'list'"
     ]
    }
   ],
   "source": [
    "None + ['1234']"
   ]
  },
  {
   "cell_type": "code",
   "execution_count": 404,
   "metadata": {},
   "outputs": [
    {
     "name": "stdout",
     "output_type": "stream",
     "text": [
      "['H225', '', '', 'H301', '', '', 'H311', '', '', 'H331', '', '', 'H370']\n",
      "['H225', '', '', 'H301', '', '', 'H311', '', '', 'H331', '', '', 'H370']\n"
     ]
    }
   ],
   "source": [
    "import re\n",
    "\n",
    "print(re.split('[,+ -]', 'H225 - H301 + H311 + H331 - H370'))\n",
    "\n",
    "print(re.split('[+ -]', 'H225 - H301 + H311 + H331 - H370'))"
   ]
  },
  {
   "cell_type": "code",
   "execution_count": 408,
   "metadata": {},
   "outputs": [],
   "source": [
    "from typing import List\n",
    "def hp_string_to_list(input_string: str) -> List:\n",
    "    '''\n",
    "    Function that takes a string, splits it by [,+ -] and returns a list of the words.\n",
    "    '''\n",
    "    out = []\n",
    "    for item in re.split('[,+ -]', input_string):\n",
    "        if item != '':\n",
    "            out.append(item)\n",
    "    return out"
   ]
  },
  {
   "cell_type": "code",
   "execution_count": 420,
   "metadata": {},
   "outputs": [],
   "source": [
    "import re\n",
    "import json\n",
    "from typing import List\n",
    "import requests\n",
    "from bs4 import BeautifulSoup\n",
    "from googlesearch import search\n",
    "\n",
    "def hp_statements_dictionary(file_path: str) -> dict:\n",
    "    '''\n",
    "    Function that takes a formatted .txt file in the project folder as input and generates a\n",
    "    dictionary in the format key = H/P code, value = H/P statement.\n",
    "    This dictionary can later be used to lookup H and P codes and translate them to human\n",
    "    readable statements.\n",
    "    '''\n",
    "    with open(file_path, 'r', encoding='UTF-8') as file:\n",
    "        hp_dict = {}\n",
    "        for line in file:\n",
    "            (code, phrase) = line.split(' ', 1)\n",
    "            hp_dict[code] = phrase.replace('\\n', \"\")\n",
    "    return hp_dict\n",
    "\n",
    "def exact_google_search_by_website(search_terms: str, site='') -> List[str]:\n",
    "    '''\n",
    "    Function that uses the standard google search library but adds a site condition if specified.\n",
    "    Returns the first 5 matching links as a list for an exact term search.\n",
    "    '''\n",
    "    if site != '':\n",
    "        query = f'site:{site} \"{search_terms}\"'\n",
    "    else:\n",
    "        query = f'\"{search_terms}\"'\n",
    "    found_links = []\n",
    "    for item in search(query, tld='com', lang='en', num=10, start=0, stop=5, pause=0.5):\n",
    "        found_links.append(item)\n",
    "    return found_links\n",
    "\n",
    "def get_response_text(link: str, attempts=3) -> str:\n",
    "    '''\n",
    "    Function that emulates the use of a web browser by passing headers to the website such that a\n",
    "    HTML response 200 is obtained. The function returns the source code of the webpage as a string\n",
    "    that can later be processed using BeautifulSoup4.\n",
    "\n",
    "    The function attempts to get a valid response a number of (by default) 3 times, which can be\n",
    "    changed by passing the 'attempts' argument.\n",
    "    '''\n",
    "    session = requests.Session()\n",
    "    headers = {'User-Agent': 'Mozilla/5.0 (Windows NT 10.0; Win64; x64) AppleWebKit/537.36 (KHTML, \\\n",
    "    like Gecko) Chrome/106.0.0.0 Safari/537.36','country_code': 'GB', 'Accept-Language': \\\n",
    "    'en-US,en;q=0.5', 'Accept': 'text/html,application/xhtml+xml,application/xml;q=0.9,*/*;q=0.8'}\n",
    "    params = dict(lang='en-US,en;q=0.5')\n",
    "\n",
    "    for _ in range(attempts):\n",
    "        try:\n",
    "            response = session.get(link, headers=headers, params=params, timeout=5, \\\n",
    "                allow_redirects=True)\n",
    "        except requests.exceptions.Timeout:\n",
    "            return ''\n",
    "        else:\n",
    "            if response.ok:\n",
    "                return response.text\n",
    "    print(f'get_response_text failed on link {link} after {attempts} attempts')\n",
    "    return \"\"\n",
    "\n",
    "def parse_html_get_json_dict(response_text: str) -> dict:\n",
    "    '''\n",
    "    Function that parses a HTML text string and strips the first found JSON data set. This is passed\n",
    "    to the standard json library to be converted from string to an addressable dictionary where data\n",
    "    lookup can be performed.\n",
    "    The function returns a json.loads dict object.\n",
    "    '''\n",
    "    soup = BeautifulSoup(response_text, \"html.parser\")\n",
    "    box = soup.findAll('script', attrs={'type': 'application/json'})\n",
    "    json_string = box[0].text.strip()\n",
    "\n",
    "    if json_string != \"\":\n",
    "        return json.loads(json_string)\n",
    "\n",
    "    print(\"JSON data not found\")\n",
    "    return \"\"\n",
    "\n",
    "def initiate_chem_dict_from_text(file_path: str) -> List[str]:\n",
    "    '''\n",
    "    Function that reads a .txt file line by line and makes a dictionary with key = name and\n",
    "    value = Chemical(name). The dictionary initiates a Chemical data storage class for each key.\n",
    "    Returns a dictionary prepared for data assignment.\n",
    "    '''\n",
    "    dict1={}\n",
    "    with open(file_path, 'r', encoding='UTF-8') as file:\n",
    "        for line in file:\n",
    "            dict1[line.replace('\\n', \"\")] = Chemical(line.replace('\\n', \"\"))\n",
    "    return dict1\n",
    "\n",
    "def hp_string_to_list(input_string: str) -> List[str]:\n",
    "    '''\n",
    "    Function that takes a string, splits it by [,+ -] and returns a list of the words.\n",
    "    '''\n",
    "    out = []\n",
    "    for item in re.split('[,+ -]', input_string):\n",
    "        if item != '':\n",
    "            # strip code of any subclasses. eg H361f -> H361\n",
    "            while len(item) > 4:\n",
    "                item = item[:-1]\n",
    "            out.append(item)\n",
    "    return out\n",
    "\n",
    "def find_hp_sigma_compliance(dicti1: dict):\n",
    "    '''\n",
    "    Function that takes the compliance section of a Sigma-Aldrich product JSON file as input and\n",
    "    searches for the index of the h and p codes dictionaries. Returns both indexes.\n",
    "    '''\n",
    "    h_c_idx, p_c_idx = None, None\n",
    "    for (index, data) in enumerate(dicti1):\n",
    "        if data['key'] == 'hcodes':\n",
    "            h_c_idx = index\n",
    "        elif data['key'] == 'pcodes':\n",
    "            p_c_idx = index\n",
    "    return h_c_idx, p_c_idx\n",
    "\n",
    "class Chemical:\n",
    "    '''\n",
    "    This class stores data about the chemical, such as websites and compliance details.\n",
    "    '''\n",
    "    def __init__(self, name: str):\n",
    "        self.name = name\n",
    "        self.links = []\n",
    "        self.hcodes = None\n",
    "        self.pcodes = None\n",
    "        self.found_on_first_attempt = True\n",
    "\n",
    "    def add_links(self, links: List[str] or str):\n",
    "        '''\n",
    "        Checks whether the given input is a list or a string, then adds the contents to\n",
    "        the class links list.\n",
    "        '''\n",
    "        if self.links is None:\n",
    "            self.links = []\n",
    "        if isinstance(links, list):\n",
    "            self.links += links\n",
    "        elif isinstance(links, str):\n",
    "            self.links += [links]\n",
    "\n",
    "    def set_codes(self, typ: str, codes: List[str]):\n",
    "        '''\n",
    "        Function that sets the s or p codes strings.\n",
    "        '''\n",
    "        if typ == 'h':\n",
    "            self.hcodes = codes\n",
    "        elif typ == 'p':\n",
    "            self.pcodes = codes\n",
    "\n",
    "    def set_found_first(self, value: bool):\n",
    "        '''\n",
    "        This function sets the status of the self.found_on_first_attempt flag.\n",
    "        '''\n",
    "        self.found_on_first_attempt = value\n"
   ]
  },
  {
   "cell_type": "code",
   "execution_count": 452,
   "metadata": {},
   "outputs": [],
   "source": [
    "# set default website path to products page of the sigmaaldrich.com website\n",
    "PATH_TO_SIGMA_PRODUCT = 'sigmaaldrich.com/US/en/product'\n",
    "# initiate dictionary to later match H/P codes with human readable phrases.\n",
    "h_p_dict = hp_statements_dictionary(r'phrases.txt')\n",
    "# read chemicals list from input file and prepare a dictionary where\n",
    "# data per chemical can be stored.\n",
    "chemicals_storage = initiate_chem_dict_from_text('chemicals.txt')"
   ]
  },
  {
   "cell_type": "code",
   "execution_count": 422,
   "metadata": {},
   "outputs": [
    {
     "data": {
      "text/plain": [
       "dict_items([('3-Iodo-2-propynyl N-butylcarbamate', <__main__.Chemical object at 0x000002B5ABA01D20>), ('N-bromosuccinimide', <__main__.Chemical object at 0x000002B5AB960F70>), ('methanol', <__main__.Chemical object at 0x000002B5AB960130>), ('Pyrrolidine', <__main__.Chemical object at 0x000002B5AB9626B0>), ('N-hexane', <__main__.Chemical object at 0x000002B5AB9601C0>)])"
      ]
     },
     "execution_count": 422,
     "metadata": {},
     "output_type": "execute_result"
    }
   ],
   "source": [
    "chemicals_storage.items()"
   ]
  },
  {
   "cell_type": "code",
   "execution_count": 426,
   "metadata": {},
   "outputs": [],
   "source": [
    "for (chemical, _) in chemicals_storage.items():\n",
    "    # perform google search of current chemical with the specified\n",
    "    # website path.\n",
    "    chemicals_storage[chemical].add_links\\\n",
    "        (exact_google_search_by_website(chemical, PATH_TO_SIGMA_PRODUCT))"
   ]
  },
  {
   "cell_type": "code",
   "execution_count": 431,
   "metadata": {},
   "outputs": [],
   "source": [
    "def myfunction(chemical):\n",
    "    chemicals_storage[chemical].add_links(exact_google_search_by_website(chemical, PATH_TO_SIGMA_PRODUCT))"
   ]
  },
  {
   "cell_type": "code",
   "execution_count": 453,
   "metadata": {},
   "outputs": [
    {
     "name": "stdout",
     "output_type": "stream",
     "text": [
      "name is __main__\n"
     ]
    }
   ],
   "source": [
    "import concurrent\n",
    "__name__ = '__main__'\n",
    "if __name__ == '__main__':\n",
    "    print(f'name is {__name__}')\n",
    "    executor = concurrent.futures.ProcessPoolExecutor(4)\n",
    "    futures = [executor.submit(myfunction, chemical) for (chemical, _) in chemicals_storage.items()]\n",
    "    concurrent.futures.wait(futures)"
   ]
  },
  {
   "cell_type": "code",
   "execution_count": 454,
   "metadata": {},
   "outputs": [
    {
     "name": "stdout",
     "output_type": "stream",
     "text": [
      "3-Iodo-2-propynyl N-butylcarbamate []\n",
      "N-bromosuccinimide []\n",
      "methanol []\n",
      "Pyrrolidine []\n",
      "N-hexane []\n"
     ]
    }
   ],
   "source": [
    "for (item, _) in chemicals_storage.items():\n",
    "    print(item, chemicals_storage[item].links)"
   ]
  },
  {
   "cell_type": "code",
   "execution_count": 449,
   "metadata": {},
   "outputs": [],
   "source": [
    "del __name__"
   ]
  },
  {
   "cell_type": "code",
   "execution_count": 455,
   "metadata": {},
   "outputs": [
    {
     "data": {
      "text/plain": [
       "8"
      ]
     },
     "execution_count": 455,
     "metadata": {},
     "output_type": "execute_result"
    }
   ],
   "source": [
    "import multiprocessing\n",
    "multiprocessing.cpu_count()"
   ]
  },
  {
   "cell_type": "code",
   "execution_count": null,
   "metadata": {},
   "outputs": [],
   "source": []
  }
 ],
 "metadata": {
  "kernelspec": {
   "display_name": "Python 3.10.4 ('autohp')",
   "language": "python",
   "name": "python3"
  },
  "language_info": {
   "codemirror_mode": {
    "name": "ipython",
    "version": 3
   },
   "file_extension": ".py",
   "mimetype": "text/x-python",
   "name": "python",
   "nbconvert_exporter": "python",
   "pygments_lexer": "ipython3",
   "version": "3.10.4"
  },
  "orig_nbformat": 4,
  "vscode": {
   "interpreter": {
    "hash": "d02388a38f4be7d736fc2c893d5eca5d2194e01b05face041b75254c15d53b5a"
   }
  }
 },
 "nbformat": 4,
 "nbformat_minor": 2
}
